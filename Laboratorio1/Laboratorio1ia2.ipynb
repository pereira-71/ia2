{
  "nbformat": 4,
  "nbformat_minor": 0,
  "metadata": {
    "colab": {
      "provenance": [],
      "authorship_tag": "ABX9TyMT18b+0q6A731fb5bafMpS",
      "include_colab_link": true
    },
    "kernelspec": {
      "name": "python3",
      "display_name": "Python 3"
    },
    "language_info": {
      "name": "python"
    }
  },
  "cells": [
    {
      "cell_type": "markdown",
      "metadata": {
        "id": "view-in-github",
        "colab_type": "text"
      },
      "source": [
        "<a href=\"https://colab.research.google.com/github/pereira-71/ia2/blob/main/Laboratorio1/Laboratorio1ia2.ipynb\" target=\"_parent\"><img src=\"https://colab.research.google.com/assets/colab-badge.svg\" alt=\"Open In Colab\"/></a>"
      ]
    },
    {
      "cell_type": "markdown",
      "source": [
        "Laboratorio1"
      ],
      "metadata": {
        "id": "AupsFHJRIwIq"
      }
    },
    {
      "cell_type": "markdown",
      "source": [],
      "metadata": {
        "id": "6oa4lXr9QZpB"
      }
    },
    {
      "cell_type": "code",
      "source": [
        "from google.colab import drive\n",
        "drive.mount('/content/drive')\n"
      ],
      "metadata": {
        "colab": {
          "base_uri": "https://localhost:8080/"
        },
        "id": "hU8_A2yTd4Gu",
        "outputId": "f9d2f3a3-9dd1-421e-bd11-ecd8f81b3666"
      },
      "execution_count": null,
      "outputs": [
        {
          "output_type": "stream",
          "name": "stdout",
          "text": [
            "Mounted at /content/drive\n"
          ]
        }
      ]
    },
    {
      "cell_type": "code",
      "source": [
        "import cv2\n",
        "from PIL import Image\n",
        "\n",
        "def extract_frames(video_path, output_folder, fps=16, width=800, height=600):\n",
        "    # Cargar el video\n",
        "    cap = cv2.VideoCapture(video_path)\n",
        "\n",
        "    # Verificar si el video se ha abierto correctamente\n",
        "    if not cap.isOpened():\n",
        "        print(\"Error: No se puede abrir el video.\")\n",
        "        return\n",
        "\n",
        "    # Obtener la tasa de frames por segundo del video\n",
        "    video_fps = cap.get(cv2.CAP_PROP_FPS)\n",
        "    frame_interval = int(video_fps / fps)\n",
        "\n",
        "    # Contador para el número de frames extraídos\n",
        "    frame_count = 0\n",
        "    saved_frame_count = 0\n",
        "\n",
        "    while True:\n",
        "        ret, frame = cap.read()\n",
        "\n",
        "        if not ret:\n",
        "            break\n",
        "\n",
        "        if frame_count % frame_interval == 0:\n",
        "            # Redimensionar el frame con interpolación de alta calidad\n",
        "            resized_frame = cv2.resize(frame, (width, height), interpolation=cv2.INTER_LANCZOS4)\n",
        "\n",
        "            # Guardar el frame como imagen JPG con alta calidad\n",
        "            # Importe, cambiar el nombre de la imagen para que no se repita o remplace la anterior ejem: cebolla1_{saved_frame_count:04d} por cada video\n",
        "            output_path = f\"{output_folder}/Cedron6{saved_frame_count:04d}.jpg\"\n",
        "            image = Image.fromarray(cv2.cvtColor(resized_frame, cv2.COLOR_BGR2RGB))\n",
        "            image.save(output_path, \"JPEG\", quality=95)  # Ajustar la calidad a 95\n",
        "            print(f\"Guardado: {output_path}\")\n",
        "            saved_frame_count += 1\n",
        "\n",
        "        frame_count += 1\n",
        "\n",
        "    cap.release()\n",
        "    print(\"Extracción de frames completada.\")\n",
        "\n",
        "# Ejemplo de uso\n",
        "video_path = '/home/claudia/Videos/ia 2/2.mp4'\n",
        "num_frames = 1\n",
        "output_size = (800, 600)  # Ancho x Alto\n",
        "output_folder = '/home/claudia/Pictures/Alegría_de_la_mañana'\n",
        "\n",
        "extract_frames(video_path, output_folder)"
      ],
      "metadata": {
        "colab": {
          "base_uri": "https://localhost:8080/"
        },
        "id": "ESaXXvF_iGAr",
        "outputId": "8c44621b-10bc-42b8-85c7-211112bf25b4"
      },
      "execution_count": 6,
      "outputs": [
        {
          "output_type": "stream",
          "name": "stdout",
          "text": [
            "Error: No se puede abrir el video.\n"
          ]
        }
      ]
    }
  ]
}